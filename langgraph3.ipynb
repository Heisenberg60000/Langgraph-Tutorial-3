{
 "cells": [
  {
   "cell_type": "code",
   "execution_count": 1,
   "id": "c776d23e-2844-4e99-a4ce-1e5883cf105c",
   "metadata": {},
   "outputs": [],
   "source": [
    "#########  LangGraph  ##########################\n",
    "from langgraph.graph import StateGraph, END\n",
    "from langgraph.prebuilt import ToolNode, tools_condition\n",
    "from langgraph.checkpoint.memory import MemorySaver\n",
    "from langgraph.graph.message import add_messages\n",
    "\n",
    "import panel as pn\n",
    "from typing import TypedDict, Annotated, List, Sequence\n",
    "from IPython.display import display, Markdown,Latex,Image"
   ]
  },
  {
   "cell_type": "markdown",
   "id": "fc298758-aa92-4fb0-b537-9877bc280c3c",
   "metadata": {},
   "source": [
    "# Conditional edge and interrupt"
   ]
  },
  {
   "cell_type": "markdown",
   "id": "47ffa295-2e6f-4579-9460-dd41fc77fc4e",
   "metadata": {},
   "source": [
    "This code sets up a graph-based workflow where the flow between nodes depends on the content of the `messages` in the `state`. Here's a detailed explanation of each part:\n",
    "\n",
    "### 1. **State Definition**\n",
    "\n",
    "```python\n",
    "class State(TypedDict):\n",
    "    input: str\n",
    "    messages: Annotated[list, add_messages]\n",
    "```\n",
    "\n",
    "- `State` is a dictionary-like structure that defines the `state` format used in this graph.\n",
    "- The `state` has two keys:\n",
    "  - `input`: a string used as the initial input to the graph.\n",
    "  - `messages`: a list that stores messages produced by each node. The `Annotated[list, add_messages]` annotation suggests there might be some additional behavior, like appending new messages.\n",
    "\n",
    "### 2. **Node Functions**\n",
    "\n",
    "Each node function processes the `state` and returns it with modifications.\n",
    "\n",
    "- **`node1`**:\n",
    "  - Prints \"Inside node 1\" to indicate it's running.\n",
    "  - Sets `state[\"messages\"]` to the value of `state[\"input\"]`.\n",
    "  \n",
    "- **`node2`**:\n",
    "  - Prints \"Inside node2\" and then sets `state[\"messages\"]` to `[\"My name is node 2\"]`, indicating that the node updates the messages list with its own message.\n",
    "  \n",
    "- **`node3`**:\n",
    "  - Prints \"Inside node3\" and sets `state[\"messages\"]` to `[\"My name is node 3\"]`.\n",
    "\n",
    "### 3. **Conditional Function (`should_continue`)**\n",
    "\n",
    "```python\n",
    "def should_continue(state: State):\n",
    "    messages = state[\"messages\"]\n",
    "    last_message = messages[-1]\n",
    "    print(\"should_continue, last_message\", last_message)\n",
    "    \n",
    "    if last_message.content == \"go to node2\":\n",
    "        print(\"continue to:\", \"node2\")\n",
    "        return \"node2\"\n",
    "    else:\n",
    "        print(\"continue to:\", \"node3\")\n",
    "        return \"node3\"\n",
    "```\n",
    "\n",
    "- This function determines the next node based on the content of the last message in `state[\"messages\"]`.\n",
    "- If `last_message.content` is `\"go to node2\"`, the function returns `\"node2\"` (routing the flow to `node2`).\n",
    "- Otherwise, it routes to `\"node3\"`.\n",
    "- This decision-making allows the graph to dynamically change flow paths based on state content.\n",
    "\n",
    "### 4. **Graph Building**\n",
    "\n",
    "The `StateGraph` builder sets up the graph structure:\n",
    "\n",
    "```python\n",
    "builder = StateGraph(State)\n",
    "builder.add_node(\"node1\", node1)\n",
    "builder.add_node(\"node2\", node2)\n",
    "builder.add_node(\"node3\", node3)\n",
    "builder.set_entry_point(\"node1\")\n",
    "```\n",
    "\n",
    "- Three nodes are created (`node1`, `node2`, and `node3`), and `node1` is set as the entry point.\n",
    "\n",
    "### 5. **Conditional and Static Edges**\n",
    "\n",
    "```python\n",
    "builder.add_conditional_edges(\n",
    "    \"node1\",\n",
    "    should_continue,\n",
    "    {\"node3\": \"node3\", \"node2\": \"node2\"},\n",
    ")\n",
    "```\n",
    "\n",
    "- This adds conditional edges from `node1` using the `should_continue` function. Based on its output:\n",
    "  - `\"node3\"` routes to `node3`.\n",
    "  - `\"node2\"` routes to `node2`.\n",
    "\n",
    "```python\n",
    "builder.add_edge(\"node2\", \"node1\")\n",
    "builder.add_edge(\"node3\", END)\n",
    "```\n",
    "\n",
    "- A standard edge is added from `node2` back to `node1`, creating a loop.\n",
    "- An edge is added from `node3` to `END`, marking the end of the flow after `node3`.\n",
    "\n",
    "### 6. **Memory Setup and Graph Compilation**\n",
    "\n",
    "```python\n",
    "memory = MemorySaver()\n",
    "graph = builder.compile(checkpointer=memory, interrupt_after=[\"node1\"])\n",
    "```\n",
    "\n",
    "- `MemorySaver()` is initialized to save the state across executions, ensuring that previous states persist.\n",
    "- `interrupt_after=[\"node1\"]` configures the graph to interrupt execution after `node1`, allowing for inspection or adjustments.\n",
    "\n",
    "### 7. **Graph Visualization**\n",
    "\n",
    "```python\n",
    "display(Image(graph.get_graph().draw_mermaid_png()))\n",
    "```\n",
    "\n",
    "- Finally, a visual representation of the graph is generated, showing the nodes, edges, and conditional paths.\n",
    "\n",
    "### Summary\n",
    "\n",
    "This code sets up a graph where:\n",
    "- Execution starts at `node1`, which then conditionally directs the flow to either `node2` or `node3`.\n",
    "- If routed to `node2`, it loops back to `node1`.\n",
    "- If routed to `node3`, the flow ends.\n",
    "- The `should_continue` function provides dynamic decision-making, allowing the graph to branch based on message content.\n",
    "- Memory and interruptions allow for saved states and control during execution, which can be especially useful in interactive applications."
   ]
  },
  {
   "cell_type": "code",
   "execution_count": 2,
   "id": "97203457-d988-4296-affe-c32f038994bb",
   "metadata": {},
   "outputs": [
    {
     "data": {
      "image/jpeg": "[encoded data removed]",
      "text/plain": [
       "<IPython.core.display.Image object>"
      ]
     },
     "metadata": {},
     "output_type": "display_data"
    }
   ],
   "source": [
    "class State(TypedDict):\n",
    "    input: str\n",
    "    messages: Annotated[list, add_messages]\n",
    "\n",
    "\n",
    "def node1(state:State):\n",
    "    print(\"Inside node 1\")\n",
    "    state[\"messages\"]=state[\"input\"]\n",
    "    return state \n",
    "\n",
    "\n",
    "def node2(state:State):\n",
    "    print(\"Inside node2\")\n",
    "    state[\"messages\"]=[\"My name is node 2\"]\n",
    "    return state \n",
    "\n",
    "\n",
    "\n",
    "def node3(state:State):\n",
    "    print(\"Inside node3\")\n",
    "    state[\"messages\"]=[\"My name is node 3\"]\n",
    "    return state \n",
    "\n",
    "\n",
    "def should_continue(state:State):\n",
    "    messages = state['messages']\n",
    "    last_message = messages[-1]\n",
    "    print(\"should_continue,last_message\",last_message)\n",
    "    # If the LLM makes a tool call, then we route to the \"tools\" node\n",
    "    \n",
    "    if last_message.content==\"go to node2\":\n",
    "        print(\"continue to:\",\"node2\")\n",
    "        return \"node2\"\n",
    "    \n",
    "    else:\n",
    "        print(\"continue to:\",\"node3\")\n",
    "        return \"node3\"\n",
    "\n",
    "\n",
    "builder = StateGraph(State)\n",
    "builder.add_node(\"node1\", node1)\n",
    "builder.add_node(\"node2\", node2)\n",
    "builder.add_node(\"node3\", node3)\n",
    "builder.set_entry_point(\"node1\") \n",
    "\n",
    "\n",
    "builder.add_conditional_edges(\n",
    "    \"node1\",\n",
    "    should_continue,\n",
    "    {\"node3\": \"node3\", \"node2\": \"node2\"},\n",
    "    )        \n",
    "\n",
    "builder.add_edge(\"node2\", \"node1\")\n",
    "\n",
    "builder.add_edge(\"node3\", END)\n",
    "\n",
    "# Set up memory\n",
    "memory = MemorySaver()\n",
    "\n",
    "# Add\n",
    "graph = builder.compile(checkpointer=memory,interrupt_after=[\"node1\"])\n",
    "\n",
    "# View\n",
    "display(Image(graph.get_graph().draw_mermaid_png()))"
   ]
  },
  {
   "cell_type": "markdown",
   "id": "0069dfeb-610f-4a24-893d-7c3eecec35d0",
   "metadata": {},
   "source": [
    "# Run graph with invoke \n",
    "\n",
    "Graph ends before node2 or before node3."
   ]
  },
  {
   "cell_type": "code",
   "execution_count": 4,
   "id": "4b67f0d5-2ac6-44d0-9018-bed9fbe7e21b",
   "metadata": {},
   "outputs": [
    {
     "name": "stdin",
     "output_type": "stream",
     "text": [
      "what next? go to node2\n"
     ]
    },
    {
     "name": "stdout",
     "output_type": "stream",
     "text": [
      "Inside node 1\n",
      "should_continue,last_message content='go to node2' additional_kwargs={} response_metadata={} id='ffd8b6cf-c501-4b78-98b8-0f9cdb5d3e98'\n",
      "continue to: node2\n"
     ]
    }
   ],
   "source": [
    "try:\n",
    "    user_input = input(\"what next?\")\n",
    "except:\n",
    "    user_input = \"End\"\n",
    "    \n",
    "thread = {\"configurable\": {\"thread_id\": \"1\"}}\n",
    "state=State()\n",
    "\n",
    "state[\"input\"]=user_input\n",
    "# Invoke the graph to process the user input\n",
    "state = graph.invoke(state, thread)"
   ]
  },
  {
   "cell_type": "markdown",
   "id": "1a051042-5bf2-47eb-bfba-6a3e6b7abb53",
   "metadata": {},
   "source": [
    "# Run graph with stream \n",
    "\n",
    "Graph waits after node1"
   ]
  },
  {
   "cell_type": "code",
   "execution_count": 5,
   "id": "a1d372d5-780e-4395-9489-b1ab9110e467",
   "metadata": {},
   "outputs": [
    {
     "name": "stdin",
     "output_type": "stream",
     "text": [
      "what next? go to node2\n"
     ]
    },
    {
     "name": "stdout",
     "output_type": "stream",
     "text": [
      "go to node2\n",
      "Inside node 1\n",
      "should_continue,last_message content='go to node2' additional_kwargs={} response_metadata={} id='3b91c545-c0d3-41ac-af4b-c836b000e7e8'\n",
      "continue to: node2\n",
      "go to node2\n"
     ]
    }
   ],
   "source": [
    "# Get user input, replace this with widget\n",
    "try:\n",
    "    user_input = input(\"what next?\")\n",
    "except:\n",
    "    user_input = \"End\"\n",
    "    \n",
    "graph_input = {\"input\": user_input}    \n",
    "for st in graph.stream(graph_input, thread, stream_mode=\"values\"):\n",
    "    print(st[\"messages\"][-1].content)\n",
    "    \n"
   ]
  },
  {
   "cell_type": "markdown",
   "id": "4b76c8a7-6d6b-4a72-a23a-44a9a98850b0",
   "metadata": {},
   "source": [
    "\n",
    "The graph goes to node2 and then back to node1 or directly to node3. However, the last message is still \"go to node2\"."
   ]
  },
  {
   "cell_type": "code",
   "execution_count": 6,
   "id": "60bb8275-f2fe-48d2-81d6-a4c2b7c64d27",
   "metadata": {},
   "outputs": [
    {
     "name": "stdout",
     "output_type": "stream",
     "text": [
      "go to node2\n",
      "Inside node2\n",
      "My name is node 2\n",
      "Inside node 1\n",
      "should_continue,last_message content='go to node2' additional_kwargs={} response_metadata={} id='a38d3c62-130c-4a92-bcca-51c26aa63fe4'\n",
      "continue to: node2\n",
      "go to node2\n"
     ]
    }
   ],
   "source": [
    "for st in graph.stream(None, thread, stream_mode=\"values\"):\n",
    "    print(st[\"messages\"][-1].content) "
   ]
  },
  {
   "cell_type": "markdown",
   "id": "e9384b31-197a-4840-9346-97050058463f",
   "metadata": {},
   "source": [
    "# Exercise\n",
    "\n",
    "1. Enter the user input so that the graph goes to node 2.\n",
    "\n",
    "2. Enter the user input so that the graph goes directly to node 3.\n",
    "\n",
    "3. Modify the graph so that node2 continues executing until \"go to node3\" is entered.\n",
    "\n",
    "Note: The graph starts from the beginning each time."
   ]
  },
  {
   "cell_type": "code",
   "execution_count": 36,
   "id": "396ef8ac-62ae-46fc-a8c2-8e714c8f2f09",
   "metadata": {},
   "outputs": [
    {
     "name": "stdin",
     "output_type": "stream",
     "text": [
      "what next? go to node2\n"
     ]
    },
    {
     "name": "stdout",
     "output_type": "stream",
     "text": [
      "My name is node 3\n",
      "Inside node 1\n",
      "should_continue,last_message content='go to node2' additional_kwargs={} response_metadata={} id='ad96de3d-1dda-472a-ab74-45657252ea55'\n",
      "continue to: node2\n",
      "go to node2\n",
      "go to node2\n",
      "Inside node2\n",
      "My name is node 2\n",
      "Inside node 1\n",
      "should_continue,last_message content='go to node2' additional_kwargs={} response_metadata={} id='27fdbfd9-159c-46f8-98c2-691ed6f8f000'\n",
      "continue to: node2\n",
      "go to node2\n"
     ]
    }
   ],
   "source": [
    "# Get user input, replace this with widget\n",
    "try:\n",
    "    user_input = input(\"what next?\")\n",
    "except:\n",
    "    user_input = \"End\"\n",
    "    \n",
    "graph_input = {\"input\": user_input}    \n",
    "for st in graph.stream(graph_input, thread, stream_mode=\"values\"):\n",
    "    print(st[\"messages\"][-1].content)\n",
    "\n",
    "for st in graph.stream(None, thread, stream_mode=\"values\"):\n",
    "    print(st[\"messages\"][-1].content) "
   ]
  },
  {
   "cell_type": "markdown",
   "id": "df4930ea-ed08-42c7-b83b-08ac81380d83",
   "metadata": {},
   "source": [
    "# Panel App\n",
    "\n"
   ]
  },
  {
   "cell_type": "markdown",
   "id": "f2f9b214-9369-40c1-b3f9-3c7ee7794828",
   "metadata": {},
   "source": [
    "\n",
    "The code is designed to receive user inputs, process them, and display a response. Here is a summary of each part of the code:\n",
    "\n",
    "### 1. `state=State()`\n",
    "   - A global `state` object is initialized to store and track information during the processing of user inputs, including the question and generated answers. This suggests that `State` is a custom or predefined class that manages the application’s context and state.\n",
    "\n",
    "### 2. `input_function`\n",
    "   - The `input_function` takes a single parameter, `question`, which is expected as a string representing the user’s question.\n",
    "   - Within the function:\n",
    "      - The global `state` is updated with the question (`state[\"input\"] = question`).\n",
    "      - The question is also stored under `state[\"messages\"]`, likely as part of a message sequence or for later reference.\n",
    "      - A hypothetical function `graph.invoke()` is called, presumably processing the question by interacting with a system (such as an AI model, computation graph, or other processing unit). The `thread` dictionary may contain parameters necessary for processing, like `thread_id`.\n",
    "      - The function extracts the answer from the `state[\"messages\"]` array (assuming the last entry contains the answer), outputs it for debugging, and returns it as the function’s result.\n",
    "\n",
    "### 3. Widget Setup\n",
    "   - `question`: A `TextInput` widget from Panel, allowing users to enter their question. This widget is labeled “Input here please.”\n",
    "   - `output`: A Markdown panel that will be updated with the answer to the question.\n",
    "\n",
    "### 4. `button_click`\n",
    "   - The `button_click` function handles the button’s click event:\n",
    "      - It checks if the `answer_button` has been clicked.\n",
    "      - If so, it binds `input_function` to the `question` widget with `pn.bind()`, dynamically passing the question input when the button is clicked.\n",
    "      - It then attempts to call `input_function` and stores the result in `output`, displaying the answer in a Markdown panel. If an error occurs, the error message is displayed instead.\n",
    "\n",
    "### 5. Setting Up the Answer Button\n",
    "   - `answer_button`: A Button widget from Panel, configured to call `button_click` when clicked.\n",
    "\n",
    "### 6. Layout and Display\n",
    "   - `Tab`: A layout that arranges the input field, answer button, separator, and answer display (in Markdown format) in a column and stretches everything to full width.\n",
    "   - `layout`: This final layout embeds `Tab` in a tab display within the Panel layout, making it user-friendly.\n",
    "\n",
    "### Summary\n",
    "This code creates an interactive, Panel-based application that allows users to enter a question, process it through an external `graph.invoke()` function, and display the answer. The `state` object tracks user inputs and answers, while the Panel widgets provide a user-friendly interface for interaction.\n"
   ]
  },
  {
   "cell_type": "code",
   "execution_count": 7,
   "id": "c13fc8cd-a5ad-42a1-9918-8c72b81f4f2a",
   "metadata": {},
   "outputs": [
    {
     "name": "stdout",
     "output_type": "stream",
     "text": [
      "Launching server at http://localhost:54275\n"
     ]
    },
    {
     "data": {
      "text/plain": [
       "<panel.io.server.Server at 0x2163a808a60>"
      ]
     },
     "execution_count": 7,
     "metadata": {},
     "output_type": "execute_result"
    },
    {
     "name": "stdout",
     "output_type": "stream",
     "text": [
      "Inside node 1\n",
      "should_continue,last_message content='go to node2' additional_kwargs={} response_metadata={} id='5226e28c-0a7e-450c-a7f8-970b6ed86b55'\n",
      "continue to: node2\n",
      "input_function the last message from agent is: go to node2\n",
      "Inside node 1\n",
      "should_continue,last_message content='' additional_kwargs={} response_metadata={} id='29ae6d48-fa0f-4885-9d67-0f170d278797'\n",
      "continue to: node3\n",
      "input_function the last message from agent is: \n"
     ]
    }
   ],
   "source": [
    "state=State()\n",
    "def input_function(question:str):\n",
    "    global state\n",
    "    thread = {\"configurable\": {\"thread_id\": \"1\"}}  \n",
    "\n",
    "    state[\"input\"]=question\n",
    "    state[\"messages\"]=question\n",
    "    \n",
    "    # Invoke the graph to process the user question\n",
    "    state = graph.invoke(state, thread)\n",
    "    answer=\"the last message from agent is: \"+state[\"messages\"][-1].content\n",
    "    print(\"input_function\",answer)\n",
    "    return answer\n",
    "\n",
    "## Widget für die Eingabe\n",
    "question = pn.widgets.TextInput(name=\"Input here please\", placeholder=\"Task\", sizing_mode=\"stretch_width\")\n",
    "## Panel für die AUsgabe\n",
    "output = pn.pane.Markdown(\"Answer\")\n",
    "\n",
    "## Funktion, welche bei buttzon_click der input_function die Frage, welche in das Widget eingegebn wurde übergibt. \n",
    "## Das Resultat von input_function wird an den output übetragen, weler in der App angezeigt wird \n",
    "def button_click(event):\n",
    "    if answer_button.clicks > 0:\n",
    "        bound_function = pn.bind(input_function, question)\n",
    "        try:\n",
    "            result = bound_function()\n",
    "            output.object = f\"Start answer:\\n {result}\"\n",
    "        except Exception as e:\n",
    "             output.object = f\"Error in start_button_click: {e}\"\n",
    "\n",
    "answer_button = pn.widgets.Button(name=\"Answer\", button_type=\"primary\", width=50, height=50)\n",
    "answer_button.on_click(button_click)\n",
    "\n",
    "Tab = pn.Column(\n",
    "            pn.Row(question),\n",
    "            pn.panel(answer_button, loading_indicator=True, height=50),\n",
    "            pn.layout.Divider(),\n",
    "            pn.panel(output, loading_indicator=True, height=900),\n",
    "            sizing_mode=\"stretch_width\"\n",
    "        )\n",
    "\n",
    "\n",
    "layout = pn.Column(pn.Tabs(('Answer', Tab)))\n",
    "layout.show()"
   ]
  },
  {
   "cell_type": "markdown",
   "id": "33c4f72f-54ee-4588-9d35-473d411d22c4",
   "metadata": {},
   "source": [
    "# Exercise\n",
    "\n",
    "\n",
    "\n",
    "Why is it not possible to reach node 2 with this app?\n"
   ]
  },
  {
   "cell_type": "markdown",
   "id": "5861b94b-d6c4-4361-801b-324716e98aa6",
   "metadata": {},
   "source": [
    "# Exercise\n",
    "\n",
    "Change the app to perform as follows:\n",
    "\n",
    "At node1 the user decides if the graph runs to node 2 or node 3. \n",
    "If the graph runs to node2, it automatically runs back to node 1 and waits for the user input that decides to either run to node 2 or node 3."
   ]
  },
  {
   "cell_type": "markdown",
   "id": "c7ed7b3c-84c7-4058-8175-a64860453be1",
   "metadata": {},
   "source": [
    "## Solution"
   ]
  },
  {
   "cell_type": "code",
   "execution_count": 9,
   "id": "6aa87872-7715-4f66-bb21-04e19d844395",
   "metadata": {},
   "outputs": [
    {
     "name": "stdout",
     "output_type": "stream",
     "text": [
      "Launching server at http://localhost:54314\n"
     ]
    },
    {
     "data": {
      "text/plain": [
       "<panel.io.server.Server at 0x2163a7a8580>"
      ]
     },
     "execution_count": 9,
     "metadata": {},
     "output_type": "execute_result"
    },
    {
     "name": "stdout",
     "output_type": "stream",
     "text": [
      "Inside node 1\n",
      "should_continue,last_message content='go to node2' additional_kwargs={} response_metadata={} id='f03e6876-0480-4f6c-8c6c-764bebaaf228'\n",
      "continue to: node2\n",
      "Inside node2\n",
      "Inside node 1\n",
      "should_continue,last_message content='go to node2' additional_kwargs={} response_metadata={} id='eeebcfac-da8b-442e-ba6c-adddf7d133ce'\n",
      "continue to: node2\n"
     ]
    }
   ],
   "source": [
    "question = pn.widgets.TextInput(name=\"Input here please\", placeholder=\"Task\", sizing_mode=\"stretch_width\")\n",
    "output = pn.pane.Markdown(\"Answer\")  # This will display the answer text\n",
    "\n",
    "# Function to handle input and update the output\n",
    "def input_function(event):\n",
    "    thread = {\"configurable\": {\"thread_id\": \"1\"}} \n",
    "    # If input is empty, go to node2\n",
    "    if question.value:\n",
    "        input = {\"input\": question.value,\"messages\": question.value}\n",
    "    else:\n",
    "        input={\"input\": \"go to node2\",\"messages\": \"go to node2\"}\n",
    "    \n",
    "    for st in graph.stream(input, thread, stream_mode=\"values\"):\n",
    "        answer=st[\"messages\"][-1].content\n",
    "    for st in graph.stream(None, thread, stream_mode=\"values\"):\n",
    "        answer=st[\"messages\"][-1].content    \n",
    "    output.object = f\"**Answer:**\\n\\n{answer}\"  # Update output with the answer\n",
    "\n",
    "# Set up the answer button and bind the function\n",
    "answer_button = pn.widgets.Button(name=\"Answer\", button_type=\"primary\")\n",
    "answer_button.on_click(input_function)\n",
    "\n",
    "# Layout with question input, answer button, and output display\n",
    "Tab = pn.Column(\n",
    "    pn.Row(question),\n",
    "    pn.panel(answer_button, loading_indicator=True, height=50),\n",
    "    pn.layout.Divider(),\n",
    "    pn.panel(output, loading_indicator=True, height=900),\n",
    "    sizing_mode=\"stretch_width\"\n",
    ")\n",
    "\n",
    "layout = pn.Column(pn.Tabs(('Answer', Tab)))\n",
    "layout.show()"
   ]
  },
  {
   "cell_type": "code",
   "execution_count": null,
   "id": "d74d5799-47ef-4456-866f-4485528bb883",
   "metadata": {},
   "outputs": [],
   "source": []
  }
 ],
 "metadata": {
  "kernelspec": {
   "display_name": "Python 3 (ipykernel)",
   "language": "python",
   "name": "python3"
  },
  "language_info": {
   "codemirror_mode": {
    "name": "ipython",
    "version": 3
   },
   "file_extension": ".py",
   "mimetype": "text/x-python",
   "name": "python",
   "nbconvert_exporter": "python",
   "pygments_lexer": "ipython3",
   "version": "3.10.0"
  }
 },
 "nbformat": 4,
 "nbformat_minor": 5
}
